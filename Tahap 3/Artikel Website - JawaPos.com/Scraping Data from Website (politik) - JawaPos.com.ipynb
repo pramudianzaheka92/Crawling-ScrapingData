{
 "cells": [
  {
   "cell_type": "code",
   "execution_count": 7,
   "metadata": {},
   "outputs": [],
   "source": [
    "# Import library\n",
    "from bs4 import BeautifulSoup as bs\n",
    "import requests\n",
    "import pandas as pd"
   ]
  },
  {
   "cell_type": "code",
   "execution_count": 8,
   "metadata": {},
   "outputs": [],
   "source": [
    "# Copy URL Website\n",
    "keyword = \"politik\"\n",
    "url = \"https://www.jawapos.com/?s={}\".format(keyword)"
   ]
  },
  {
   "cell_type": "code",
   "execution_count": 9,
   "metadata": {},
   "outputs": [],
   "source": [
    "# Request URL Website\n",
    "req = requests.get(url)\n",
    "\n",
    "# Parsing HTML ke dalam BeautifulSoup\n",
    "soup = bs(req.text, \"html.parser\")\n",
    "\n",
    "# Memanggil judul artikel\n",
    "article = soup.findAll(\"div\", \"row gap-20\")\n",
    "\n",
    "# List kosong\n",
    "data = []\n",
    "\n",
    "for judul in article:\n",
    "    text = judul.find(\"h3\", \"post-list__title\").text.strip().split(\"\\n\")\n",
    "    tanggal = judul.find(\"div\", \"post-list__time\")\n",
    "    link = judul.find(\"a\")[\"href\"]\n",
    "    \n",
    "    data.append([text, tanggal, link]) # Memasukkan data scraping ke dalam list data"
   ]
  },
  {
   "cell_type": "code",
   "execution_count": 10,
   "metadata": {},
   "outputs": [
    {
     "data": {
      "text/html": [
       "<div>\n",
       "<style scoped>\n",
       "    .dataframe tbody tr th:only-of-type {\n",
       "        vertical-align: middle;\n",
       "    }\n",
       "\n",
       "    .dataframe tbody tr th {\n",
       "        vertical-align: top;\n",
       "    }\n",
       "\n",
       "    .dataframe thead th {\n",
       "        text-align: right;\n",
       "    }\n",
       "</style>\n",
       "<table border=\"1\" class=\"dataframe\">\n",
       "  <thead>\n",
       "    <tr style=\"text-align: right;\">\n",
       "      <th></th>\n",
       "      <th>0</th>\n",
       "      <th>1</th>\n",
       "      <th>2</th>\n",
       "    </tr>\n",
       "  </thead>\n",
       "  <tbody>\n",
       "    <tr>\n",
       "      <th>0</th>\n",
       "      <td>[Zullkieflimansyah: Airlangga Tahan Banting Di...</td>\n",
       "      <td>[15 Oktober 2021, 19:02:30 WIB]</td>\n",
       "      <td>https://radarpapua.jawapos.com/news/politik/15...</td>\n",
       "    </tr>\n",
       "    <tr>\n",
       "      <th>1</th>\n",
       "      <td>[Vettel Bicara Pensiun, Karir Politik, dan Men...</td>\n",
       "      <td>[13 Oktober 2021, 20:04:50 WIB]</td>\n",
       "      <td>https://www.jawapos.com/sports/13/10/2021/vett...</td>\n",
       "    </tr>\n",
       "    <tr>\n",
       "      <th>2</th>\n",
       "      <td>[9 Parpol di Kudus Terima Dana Politik, Demokr...</td>\n",
       "      <td>[13 Oktober 2021, 19:48:02 WIB]</td>\n",
       "      <td>https://baliexpress.jawapos.com/read/2021/10/1...</td>\n",
       "    </tr>\n",
       "    <tr>\n",
       "      <th>3</th>\n",
       "      <td>[Politik Luar Negeri Berorientasi Kepentingan ...</td>\n",
       "      <td>[13 Oktober 2021, 11:46:05 WIB]</td>\n",
       "      <td>https://baliexpress.jawapos.com/read/2021/10/1...</td>\n",
       "    </tr>\n",
       "    <tr>\n",
       "      <th>4</th>\n",
       "      <td>[Politik Uang, Calon Perbekel Diskualifikasi d...</td>\n",
       "      <td>[12 Oktober 2021, 00:15:59 WIB]</td>\n",
       "      <td>https://radarbali.jawapos.com/read/2021/10/12/...</td>\n",
       "    </tr>\n",
       "  </tbody>\n",
       "</table>\n",
       "</div>"
      ],
      "text/plain": [
       "                                                   0  \\\n",
       "0  [Zullkieflimansyah: Airlangga Tahan Banting Di...   \n",
       "1  [Vettel Bicara Pensiun, Karir Politik, dan Men...   \n",
       "2  [9 Parpol di Kudus Terima Dana Politik, Demokr...   \n",
       "3  [Politik Luar Negeri Berorientasi Kepentingan ...   \n",
       "4  [Politik Uang, Calon Perbekel Diskualifikasi d...   \n",
       "\n",
       "                                 1  \\\n",
       "0  [15 Oktober 2021, 19:02:30 WIB]   \n",
       "1  [13 Oktober 2021, 20:04:50 WIB]   \n",
       "2  [13 Oktober 2021, 19:48:02 WIB]   \n",
       "3  [13 Oktober 2021, 11:46:05 WIB]   \n",
       "4  [12 Oktober 2021, 00:15:59 WIB]   \n",
       "\n",
       "                                                   2  \n",
       "0  https://radarpapua.jawapos.com/news/politik/15...  \n",
       "1  https://www.jawapos.com/sports/13/10/2021/vett...  \n",
       "2  https://baliexpress.jawapos.com/read/2021/10/1...  \n",
       "3  https://baliexpress.jawapos.com/read/2021/10/1...  \n",
       "4  https://radarbali.jawapos.com/read/2021/10/12/...  "
      ]
     },
     "execution_count": 10,
     "metadata": {},
     "output_type": "execute_result"
    }
   ],
   "source": [
    "# Memasukkan hasil scraping ke dalam DataFrame\n",
    "df1 = pd.DataFrame(data)\n",
    "df1.head()"
   ]
  },
  {
   "cell_type": "code",
   "execution_count": 11,
   "metadata": {},
   "outputs": [
    {
     "data": {
      "text/html": [
       "<div>\n",
       "<style scoped>\n",
       "    .dataframe tbody tr th:only-of-type {\n",
       "        vertical-align: middle;\n",
       "    }\n",
       "\n",
       "    .dataframe tbody tr th {\n",
       "        vertical-align: top;\n",
       "    }\n",
       "\n",
       "    .dataframe thead th {\n",
       "        text-align: right;\n",
       "    }\n",
       "</style>\n",
       "<table border=\"1\" class=\"dataframe\">\n",
       "  <thead>\n",
       "    <tr style=\"text-align: right;\">\n",
       "      <th></th>\n",
       "      <th>Judul Berita</th>\n",
       "      <th>Tanggal</th>\n",
       "      <th>URL</th>\n",
       "    </tr>\n",
       "  </thead>\n",
       "  <tbody>\n",
       "    <tr>\n",
       "      <th>10</th>\n",
       "      <td>[Kejar Komisi, Sales Asuransi Prudential Palsu...</td>\n",
       "      <td>[14 Oktober 2021, 12:48:39 WIB]</td>\n",
       "      <td>https://www.jawapos.com/surabaya/14/10/2021/ke...</td>\n",
       "    </tr>\n",
       "    <tr>\n",
       "      <th>11</th>\n",
       "      <td>[Diduga Kehabisan Napas, Meninggal di Kolam Re...</td>\n",
       "      <td>[13 Oktober 2021, 19:34:36 WIB]</td>\n",
       "      <td>https://www.jawapos.com/surabaya/13/10/2021/di...</td>\n",
       "    </tr>\n",
       "    <tr>\n",
       "      <th>12</th>\n",
       "      <td>[Nicke Widyawati Peringkat Ke-17 Perempuan Pal...</td>\n",
       "      <td>[13 Oktober 2021, 22:21:10 WIB]</td>\n",
       "      <td>https://www.jawapos.com/sisi-lain/13/10/2021/n...</td>\n",
       "    </tr>\n",
       "    <tr>\n",
       "      <th>13</th>\n",
       "      <td>[Shenina Cinnamon: Film Penyalin Cahaya Diteri...</td>\n",
       "      <td>[13 Oktober 2021, 15:35:52 WIB]</td>\n",
       "      <td>https://www.jawapos.com/entertainment/music-mo...</td>\n",
       "    </tr>\n",
       "    <tr>\n",
       "      <th>14</th>\n",
       "      <td>[Jokowi Minta Jangan Cuma Jadi Tukang Gali dan...</td>\n",
       "      <td>[13 Oktober 2021, 16:40:42 WIB]</td>\n",
       "      <td>https://www.jawapos.com/nasional/13/10/2021/jo...</td>\n",
       "    </tr>\n",
       "  </tbody>\n",
       "</table>\n",
       "</div>"
      ],
      "text/plain": [
       "                                         Judul Berita  \\\n",
       "10  [Kejar Komisi, Sales Asuransi Prudential Palsu...   \n",
       "11  [Diduga Kehabisan Napas, Meninggal di Kolam Re...   \n",
       "12  [Nicke Widyawati Peringkat Ke-17 Perempuan Pal...   \n",
       "13  [Shenina Cinnamon: Film Penyalin Cahaya Diteri...   \n",
       "14  [Jokowi Minta Jangan Cuma Jadi Tukang Gali dan...   \n",
       "\n",
       "                            Tanggal  \\\n",
       "10  [14 Oktober 2021, 12:48:39 WIB]   \n",
       "11  [13 Oktober 2021, 19:34:36 WIB]   \n",
       "12  [13 Oktober 2021, 22:21:10 WIB]   \n",
       "13  [13 Oktober 2021, 15:35:52 WIB]   \n",
       "14  [13 Oktober 2021, 16:40:42 WIB]   \n",
       "\n",
       "                                                  URL  \n",
       "10  https://www.jawapos.com/surabaya/14/10/2021/ke...  \n",
       "11  https://www.jawapos.com/surabaya/13/10/2021/di...  \n",
       "12  https://www.jawapos.com/sisi-lain/13/10/2021/n...  \n",
       "13  https://www.jawapos.com/entertainment/music-mo...  \n",
       "14  https://www.jawapos.com/nasional/13/10/2021/jo...  "
      ]
     },
     "execution_count": 11,
     "metadata": {},
     "output_type": "execute_result"
    }
   ],
   "source": [
    "# Mengganti nama kolom\n",
    "df1.rename(columns={0: \"Judul Berita\", 1:\"Tanggal\", 2:\"URL\"}, inplace=True)\n",
    "df1.tail()"
   ]
  },
  {
   "cell_type": "code",
   "execution_count": 12,
   "metadata": {},
   "outputs": [
    {
     "name": "stdout",
     "output_type": "stream",
     "text": [
      "<class 'pandas.core.frame.DataFrame'>\n",
      "RangeIndex: 15 entries, 0 to 14\n",
      "Data columns (total 3 columns):\n",
      " #   Column        Non-Null Count  Dtype \n",
      "---  ------        --------------  ----- \n",
      " 0   Judul Berita  15 non-null     object\n",
      " 1   Tanggal       15 non-null     object\n",
      " 2   URL           15 non-null     object\n",
      "dtypes: object(3)\n",
      "memory usage: 488.0+ bytes\n"
     ]
    }
   ],
   "source": [
    "df1.info()"
   ]
  },
  {
   "cell_type": "code",
   "execution_count": null,
   "metadata": {},
   "outputs": [],
   "source": []
  }
 ],
 "metadata": {
  "kernelspec": {
   "display_name": "Python 3",
   "language": "python",
   "name": "python3"
  },
  "language_info": {
   "codemirror_mode": {
    "name": "ipython",
    "version": 3
   },
   "file_extension": ".py",
   "mimetype": "text/x-python",
   "name": "python",
   "nbconvert_exporter": "python",
   "pygments_lexer": "ipython3",
   "version": "3.8.5"
  }
 },
 "nbformat": 4,
 "nbformat_minor": 4
}
