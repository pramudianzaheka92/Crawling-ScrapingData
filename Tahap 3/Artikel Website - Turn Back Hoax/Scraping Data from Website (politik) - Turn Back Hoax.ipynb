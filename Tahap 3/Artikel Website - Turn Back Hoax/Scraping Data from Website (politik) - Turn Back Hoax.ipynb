{
 "cells": [
  {
   "cell_type": "code",
   "execution_count": 1,
   "metadata": {},
   "outputs": [],
   "source": [
    "# Import library\n",
    "import requests\n",
    "import pandas as pd\n",
    "from bs4 import BeautifulSoup as bs"
   ]
  },
  {
   "cell_type": "code",
   "execution_count": 13,
   "metadata": {},
   "outputs": [
    {
     "name": "stdout",
     "output_type": "stream",
     "text": [
      "['[SALAH] Politikus Bahlil Lahadia Sebut Gubernur DKI Jakarta Tak Tahu Malu']\n",
      "['[SALAH] Joe Biden Mengangkat Orang India sebagai Penasehat Politik']\n",
      "['[SALAH] “Mereka yang Turun ke Jalanan Hari Ini Jika Besok Mereka Masih Hidup dan Sehat, Artinya Perihal Corona Hanya Politik & Bisnis Semata”']\n",
      "['[SALAH] Moeldoko Peringatkan Abu Janda CS: Jangan Coba-coba Ganggu Stabilitas Politik']\n",
      "['[SALAH] Pelarangan Masker Scuba Politik Perusahaan']\n",
      "['[SALAH] Anies Baswedan Terlibat Kontrak Politik dengan HTI']\n",
      "['[SALAH] Politikus PKS Netty Prasetiyani Meninggal Dunia']\n",
      "['[SALAH] Foto “Setelah dipecat PAN dia benar2 jadi gelandangan politik”']\n",
      "['[SALAH] “ini bukan politik, tapi kenyataan Pak Jokowi berhasil memulangkan 11,000 Triliun uang negara dari Swiss.”']\n",
      "['[SALAH] Erdogan: “Jika Joko Widodo Tidak Terjun ke Politik, Maka Para Penjahatlah yang Akan Mengisinya”']\n",
      "['[SALAH] “Ternyata begini cara Presiden mengajarkan politik”']\n",
      "['[SALAH] “Stroke Kambuh, Prabowo Batal Orasi Politik di Acara Fraksi PKS”']\n",
      "['[SALAH] “paham politik gak sih pak?”']\n",
      "['[SALAH] Pria Bule yang Hadir pada Debat Pilpres Perdana ialah Konsultan Politik Prabowo – Sandi']\n",
      "['[SALAH] “Sedekah atau Money Politik?”']\n",
      "['[SALAH] “Akun Twitter @LawanPolitikJKW adalah Milik Ferdinand Hutahean”']\n",
      "['[BENAR] “Charta Politika Tidak Pernah Melakukan Survei Nasional dengan Simulasi Jokowi – KH. Ma’ruf Amin dan Prabowo Subianto – Sandiaga Uno”']\n",
      "['[BENAR] HMI Klarifikasi Terkait Isu Memberi Dukungan Politik Ke Partai Berkarya']\n",
      "['[HOAX + HASUT] POLITIK LUAR NEGERI JOKOWI DI ASEAN HANYA UNTUK MENCARI INVESTASI DAN UTANG']\n",
      "['[BERITA] “Ketika Emosi Dominasi Politik”']\n"
     ]
    }
   ],
   "source": [
    "# List kosong\n",
    "data = []\n",
    "\n",
    "for page in range(1, 45):\n",
    "    if page == 1:\n",
    "        url = \"https://turnbackhoax.id/?s=politik\"\n",
    "    else:\n",
    "        url = \"https://turnbackhoax.id/page/2/?s=politik\"+ str(page)\n",
    "        \n",
    "    page = requests.get(url)\n",
    "    soup = bs(page.text, \"html.parser\")\n",
    "    \n",
    "    article = soup.findAll(\"div\",\"mh-loop-content mh-clearfix\")\n",
    "    \n",
    "    for scraping in article:\n",
    "        text = scraping.find(\"h3\", \"entry-title mh-loop-title\").text.strip().split(\"\\n\")\n",
    "        link = scraping.find(\"a\", {\"rel\":\"bookmark\"})[\"href\"]\n",
    "        print(text)\n",
    "                \n",
    "        #data.append([text, link]) # Memasukkan data scraping ke dalam list data"
   ]
  },
  {
   "cell_type": "code",
   "execution_count": null,
   "metadata": {},
   "outputs": [],
   "source": []
  }
 ],
 "metadata": {
  "kernelspec": {
   "display_name": "Python 3",
   "language": "python",
   "name": "python3"
  },
  "language_info": {
   "codemirror_mode": {
    "name": "ipython",
    "version": 3
   },
   "file_extension": ".py",
   "mimetype": "text/x-python",
   "name": "python",
   "nbconvert_exporter": "python",
   "pygments_lexer": "ipython3",
   "version": "3.8.5"
  }
 },
 "nbformat": 4,
 "nbformat_minor": 4
}
