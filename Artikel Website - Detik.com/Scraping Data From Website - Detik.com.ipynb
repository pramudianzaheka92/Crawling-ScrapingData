{
 "cells": [
  {
   "cell_type": "code",
   "execution_count": 16,
   "metadata": {},
   "outputs": [],
   "source": [
    "# Import Library\n",
    "import pandas as pd\n",
    "from bs4 import BeautifulSoup\n",
    "import requests"
   ]
  },
  {
   "cell_type": "markdown",
   "metadata": {},
   "source": [
    "### Halaman 1"
   ]
  },
  {
   "cell_type": "code",
   "execution_count": 17,
   "metadata": {},
   "outputs": [],
   "source": [
    "# Copy URL Website\n",
    "key = \"vaksin\"\n",
    "url = \"https://www.detik.com/search/searchall?query={}&siteid=2\".format(key)"
   ]
  },
  {
   "cell_type": "code",
   "execution_count": 18,
   "metadata": {},
   "outputs": [],
   "source": [
    "# Request URL\n",
    "req = requests.get(url)\n",
    "\n",
    "# Mercubah format html ke dalam beautiful soup\n",
    "soup = BeautifulSoup(req.text, \"html.parser\")\n",
    "\n",
    "# Mengambil seluruh judul artikel paling terluar\n",
    "content = soup.findAll(\"article\")\n",
    "\n",
    "data = [] # List kosong untuk menampung hasil scraping\n",
    "\n",
    "for article in content:\n",
    "    text = article.find(\"h2\", \"title\").text.strip().split(\"\\n\")\n",
    "    kategori = article.find(\"span\", \"category\")\n",
    "    link = article.find(\"a\")[\"href\"]\n",
    "    data.append([text, kategori, link])"
   ]
  },
  {
   "cell_type": "code",
   "execution_count": 19,
   "metadata": {},
   "outputs": [
    {
     "data": {
      "text/html": [
       "<div>\n",
       "<style scoped>\n",
       "    .dataframe tbody tr th:only-of-type {\n",
       "        vertical-align: middle;\n",
       "    }\n",
       "\n",
       "    .dataframe tbody tr th {\n",
       "        vertical-align: top;\n",
       "    }\n",
       "\n",
       "    .dataframe thead th {\n",
       "        text-align: right;\n",
       "    }\n",
       "</style>\n",
       "<table border=\"1\" class=\"dataframe\">\n",
       "  <thead>\n",
       "    <tr style=\"text-align: right;\">\n",
       "      <th></th>\n",
       "      <th>0</th>\n",
       "      <th>1</th>\n",
       "      <th>2</th>\n",
       "    </tr>\n",
       "  </thead>\n",
       "  <tbody>\n",
       "    <tr>\n",
       "      <th>0</th>\n",
       "      <td>[Menkes Minta Sumatera Barat Kejar Target Vaks...</td>\n",
       "      <td>[detikNews]</td>\n",
       "      <td>https://news.detik.com/berita/d-5765902/menkes...</td>\n",
       "    </tr>\n",
       "    <tr>\n",
       "      <th>1</th>\n",
       "      <td>[Menkes Sorot Rendahnya Vaksinasi di Sumbar]</td>\n",
       "      <td>[detikNews]</td>\n",
       "      <td>https://news.detik.com/berita/d-5765791/menkes...</td>\n",
       "    </tr>\n",
       "    <tr>\n",
       "      <th>2</th>\n",
       "      <td>[Relawan Madura Sadar COVID-19 Vaksinasi 3.000...</td>\n",
       "      <td>[detikNews]</td>\n",
       "      <td>https://news.detik.com/berita-jawa-timur/d-576...</td>\n",
       "    </tr>\n",
       "    <tr>\n",
       "      <th>3</th>\n",
       "      <td>[RI Bawa Oleh-oleh dari Turki, Mau Bikin Pesaw...</td>\n",
       "      <td>[detikFinance]</td>\n",
       "      <td>https://finance.detik.com/industri/d-5765688/r...</td>\n",
       "    </tr>\n",
       "    <tr>\n",
       "      <th>4</th>\n",
       "      <td>[Varian Delta Masih Jadi Raja, RI Juga Waspada...</td>\n",
       "      <td>[detikHealth]</td>\n",
       "      <td>https://health.detik.com/berita-detikhealth/d-...</td>\n",
       "    </tr>\n",
       "  </tbody>\n",
       "</table>\n",
       "</div>"
      ],
      "text/plain": [
       "                                                   0               1  \\\n",
       "0  [Menkes Minta Sumatera Barat Kejar Target Vaks...     [detikNews]   \n",
       "1       [Menkes Sorot Rendahnya Vaksinasi di Sumbar]     [detikNews]   \n",
       "2  [Relawan Madura Sadar COVID-19 Vaksinasi 3.000...     [detikNews]   \n",
       "3  [RI Bawa Oleh-oleh dari Turki, Mau Bikin Pesaw...  [detikFinance]   \n",
       "4  [Varian Delta Masih Jadi Raja, RI Juga Waspada...   [detikHealth]   \n",
       "\n",
       "                                                   2  \n",
       "0  https://news.detik.com/berita/d-5765902/menkes...  \n",
       "1  https://news.detik.com/berita/d-5765791/menkes...  \n",
       "2  https://news.detik.com/berita-jawa-timur/d-576...  \n",
       "3  https://finance.detik.com/industri/d-5765688/r...  \n",
       "4  https://health.detik.com/berita-detikhealth/d-...  "
      ]
     },
     "execution_count": 19,
     "metadata": {},
     "output_type": "execute_result"
    }
   ],
   "source": [
    "df = pd.DataFrame(data)\n",
    "df.head()"
   ]
  },
  {
   "cell_type": "code",
   "execution_count": 20,
   "metadata": {},
   "outputs": [
    {
     "data": {
      "text/html": [
       "<div>\n",
       "<style scoped>\n",
       "    .dataframe tbody tr th:only-of-type {\n",
       "        vertical-align: middle;\n",
       "    }\n",
       "\n",
       "    .dataframe tbody tr th {\n",
       "        vertical-align: top;\n",
       "    }\n",
       "\n",
       "    .dataframe thead th {\n",
       "        text-align: right;\n",
       "    }\n",
       "</style>\n",
       "<table border=\"1\" class=\"dataframe\">\n",
       "  <thead>\n",
       "    <tr style=\"text-align: right;\">\n",
       "      <th></th>\n",
       "      <th>Text</th>\n",
       "      <th>Kategori</th>\n",
       "      <th>URL</th>\n",
       "    </tr>\n",
       "  </thead>\n",
       "  <tbody>\n",
       "    <tr>\n",
       "      <th>4</th>\n",
       "      <td>[Varian Delta Masih Jadi Raja, RI Juga Waspada...</td>\n",
       "      <td>[detikHealth]</td>\n",
       "      <td>https://health.detik.com/berita-detikhealth/d-...</td>\n",
       "    </tr>\n",
       "    <tr>\n",
       "      <th>5</th>\n",
       "      <td>[Bamsoet Paparkan Prestasi RI di Asia Tenggara...</td>\n",
       "      <td>[detikNews]</td>\n",
       "      <td>https://news.detik.com/berita/d-5765637/bamsoe...</td>\n",
       "    </tr>\n",
       "    <tr>\n",
       "      <th>6</th>\n",
       "      <td>[Digelar April 2022, Coachella Ganti Regulasi ...</td>\n",
       "      <td>[detikHot]</td>\n",
       "      <td>https://hot.detik.com/music/d-5765147/digelar-...</td>\n",
       "    </tr>\n",
       "    <tr>\n",
       "      <th>7</th>\n",
       "      <td>[Cerita Dokter Unair Berantas Hoaks-Tingkatkan...</td>\n",
       "      <td>[detikNews]</td>\n",
       "      <td>https://news.detik.com/berita-jawa-timur/d-576...</td>\n",
       "    </tr>\n",
       "    <tr>\n",
       "      <th>8</th>\n",
       "      <td>[Pemprov Kalteng Suntikkan 500 Dosis Vaksin ke...</td>\n",
       "      <td>[detikNews]</td>\n",
       "      <td>https://news.detik.com/berita/d-5765491/pempro...</td>\n",
       "    </tr>\n",
       "  </tbody>\n",
       "</table>\n",
       "</div>"
      ],
      "text/plain": [
       "                                                Text       Kategori  \\\n",
       "4  [Varian Delta Masih Jadi Raja, RI Juga Waspada...  [detikHealth]   \n",
       "5  [Bamsoet Paparkan Prestasi RI di Asia Tenggara...    [detikNews]   \n",
       "6  [Digelar April 2022, Coachella Ganti Regulasi ...     [detikHot]   \n",
       "7  [Cerita Dokter Unair Berantas Hoaks-Tingkatkan...    [detikNews]   \n",
       "8  [Pemprov Kalteng Suntikkan 500 Dosis Vaksin ke...    [detikNews]   \n",
       "\n",
       "                                                 URL  \n",
       "4  https://health.detik.com/berita-detikhealth/d-...  \n",
       "5  https://news.detik.com/berita/d-5765637/bamsoe...  \n",
       "6  https://hot.detik.com/music/d-5765147/digelar-...  \n",
       "7  https://news.detik.com/berita-jawa-timur/d-576...  \n",
       "8  https://news.detik.com/berita/d-5765491/pempro...  "
      ]
     },
     "execution_count": 20,
     "metadata": {},
     "output_type": "execute_result"
    }
   ],
   "source": [
    "# Mengganti nama kolom\n",
    "df.rename(columns={0: \"Text\", 1:\"Kategori\", 2:\"URL\"}, inplace=True)\n",
    "df.tail()"
   ]
  },
  {
   "cell_type": "code",
   "execution_count": 21,
   "metadata": {},
   "outputs": [
    {
     "name": "stdout",
     "output_type": "stream",
     "text": [
      "<class 'pandas.core.frame.DataFrame'>\n",
      "RangeIndex: 9 entries, 0 to 8\n",
      "Data columns (total 3 columns):\n",
      " #   Column    Non-Null Count  Dtype \n",
      "---  ------    --------------  ----- \n",
      " 0   Text      9 non-null      object\n",
      " 1   Kategori  9 non-null      object\n",
      " 2   URL       9 non-null      object\n",
      "dtypes: object(3)\n",
      "memory usage: 344.0+ bytes\n"
     ]
    }
   ],
   "source": [
    "df.info()"
   ]
  },
  {
   "cell_type": "markdown",
   "metadata": {},
   "source": [
    "### Halaman 2"
   ]
  },
  {
   "cell_type": "code",
   "execution_count": 22,
   "metadata": {},
   "outputs": [],
   "source": [
    "# Copy URL Website\n",
    "key = \"vaksin\"\n",
    "url = \"https://www.detik.com/search/searchall?query={}&siteid=2&sortby=time&page=2\".format(key)"
   ]
  },
  {
   "cell_type": "code",
   "execution_count": 23,
   "metadata": {},
   "outputs": [],
   "source": [
    "# Request URL\n",
    "req = requests.get(url)\n",
    "\n",
    "# Mercubah format html ke dalam beautiful soup\n",
    "soup = BeautifulSoup(req.text, \"html.parser\")\n",
    "\n",
    "# Mengambil seluruh judul artikel paling terluar\n",
    "content = soup.findAll(\"article\")\n",
    "\n",
    "data = [] # List kosong untuk menampung hasil scraping\n",
    "\n",
    "for article in content:\n",
    "    text = article.find(\"h2\", \"title\").text.strip().split(\"\\n\")\n",
    "    kategori = article.find(\"span\", \"category\")\n",
    "    link = article.find(\"a\")[\"href\"]\n",
    "    data.append([text, kategori, link])"
   ]
  },
  {
   "cell_type": "code",
   "execution_count": 24,
   "metadata": {},
   "outputs": [
    {
     "data": {
      "text/html": [
       "<div>\n",
       "<style scoped>\n",
       "    .dataframe tbody tr th:only-of-type {\n",
       "        vertical-align: middle;\n",
       "    }\n",
       "\n",
       "    .dataframe tbody tr th {\n",
       "        vertical-align: top;\n",
       "    }\n",
       "\n",
       "    .dataframe thead th {\n",
       "        text-align: right;\n",
       "    }\n",
       "</style>\n",
       "<table border=\"1\" class=\"dataframe\">\n",
       "  <thead>\n",
       "    <tr style=\"text-align: right;\">\n",
       "      <th></th>\n",
       "      <th>0</th>\n",
       "      <th>1</th>\n",
       "      <th>2</th>\n",
       "    </tr>\n",
       "  </thead>\n",
       "  <tbody>\n",
       "    <tr>\n",
       "      <th>0</th>\n",
       "      <td>[Cara Mengatasi Sertifikat Vaksin Tidak Keluar...</td>\n",
       "      <td>[detikNews]</td>\n",
       "      <td>https://news.detik.com/berita/d-5765467/cara-m...</td>\n",
       "    </tr>\n",
       "    <tr>\n",
       "      <th>1</th>\n",
       "      <td>[Simulasi Penerapan Prokes Haul KH Abdul Hamid...</td>\n",
       "      <td>[detikNews]</td>\n",
       "      <td>https://news.detik.com/berita-jawa-timur/d-576...</td>\n",
       "    </tr>\n",
       "    <tr>\n",
       "      <th>2</th>\n",
       "      <td>[Vaksin BCG dan Polio Kosong Sudah 3 Bulan, Or...</td>\n",
       "      <td>[detikNews]</td>\n",
       "      <td>https://news.detik.com/berita-jawa-barat/d-576...</td>\n",
       "    </tr>\n",
       "    <tr>\n",
       "      <th>3</th>\n",
       "      <td>[Sinergi Stakeholders di Sidoarjo Gencar Vaksi...</td>\n",
       "      <td>[detikNews]</td>\n",
       "      <td>https://news.detik.com/berita-jawa-timur/d-576...</td>\n",
       "    </tr>\n",
       "    <tr>\n",
       "      <th>4</th>\n",
       "      <td>[AS Bersiap Cabut Pembatasan Perjalanan Darat-...</td>\n",
       "      <td>[detikNews]</td>\n",
       "      <td>https://news.detik.com/dw/d-5765261/as-bersiap...</td>\n",
       "    </tr>\n",
       "  </tbody>\n",
       "</table>\n",
       "</div>"
      ],
      "text/plain": [
       "                                                   0            1  \\\n",
       "0  [Cara Mengatasi Sertifikat Vaksin Tidak Keluar...  [detikNews]   \n",
       "1  [Simulasi Penerapan Prokes Haul KH Abdul Hamid...  [detikNews]   \n",
       "2  [Vaksin BCG dan Polio Kosong Sudah 3 Bulan, Or...  [detikNews]   \n",
       "3  [Sinergi Stakeholders di Sidoarjo Gencar Vaksi...  [detikNews]   \n",
       "4  [AS Bersiap Cabut Pembatasan Perjalanan Darat-...  [detikNews]   \n",
       "\n",
       "                                                   2  \n",
       "0  https://news.detik.com/berita/d-5765467/cara-m...  \n",
       "1  https://news.detik.com/berita-jawa-timur/d-576...  \n",
       "2  https://news.detik.com/berita-jawa-barat/d-576...  \n",
       "3  https://news.detik.com/berita-jawa-timur/d-576...  \n",
       "4  https://news.detik.com/dw/d-5765261/as-bersiap...  "
      ]
     },
     "execution_count": 24,
     "metadata": {},
     "output_type": "execute_result"
    }
   ],
   "source": [
    "df1 = pd.DataFrame(data)\n",
    "df1.head()"
   ]
  },
  {
   "cell_type": "code",
   "execution_count": 25,
   "metadata": {},
   "outputs": [
    {
     "data": {
      "text/html": [
       "<div>\n",
       "<style scoped>\n",
       "    .dataframe tbody tr th:only-of-type {\n",
       "        vertical-align: middle;\n",
       "    }\n",
       "\n",
       "    .dataframe tbody tr th {\n",
       "        vertical-align: top;\n",
       "    }\n",
       "\n",
       "    .dataframe thead th {\n",
       "        text-align: right;\n",
       "    }\n",
       "</style>\n",
       "<table border=\"1\" class=\"dataframe\">\n",
       "  <thead>\n",
       "    <tr style=\"text-align: right;\">\n",
       "      <th></th>\n",
       "      <th>Text</th>\n",
       "      <th>Kategori</th>\n",
       "      <th>URL</th>\n",
       "    </tr>\n",
       "  </thead>\n",
       "  <tbody>\n",
       "    <tr>\n",
       "      <th>4</th>\n",
       "      <td>[AS Bersiap Cabut Pembatasan Perjalanan Darat-...</td>\n",
       "      <td>[detikNews]</td>\n",
       "      <td>https://news.detik.com/dw/d-5765261/as-bersiap...</td>\n",
       "    </tr>\n",
       "    <tr>\n",
       "      <th>5</th>\n",
       "      <td>[Warga Kota Malang yang NIK-nya Sempat Dipakai...</td>\n",
       "      <td>[detikNews]</td>\n",
       "      <td>https://news.detik.com/berita-jawa-timur/d-576...</td>\n",
       "    </tr>\n",
       "    <tr>\n",
       "      <th>6</th>\n",
       "      <td>[Sindiran WHO soal Keputusan Moderna yang Ogah...</td>\n",
       "      <td>[detikHealth]</td>\n",
       "      <td>https://health.detik.com/detiktv/d-5765149/sin...</td>\n",
       "    </tr>\n",
       "    <tr>\n",
       "      <th>7</th>\n",
       "      <td>[Pakar 'Berterima Kasih' Varian Delta Masuk RI...</td>\n",
       "      <td>[detikHealth]</td>\n",
       "      <td>https://health.detik.com/berita-detikhealth/d-...</td>\n",
       "    </tr>\n",
       "    <tr>\n",
       "      <th>8</th>\n",
       "      <td>[Kapolri: TNI-Polri Terus Bersinergi Wujudkan ...</td>\n",
       "      <td>[detikNews]</td>\n",
       "      <td>https://news.detik.com/berita/d-5765131/kapolr...</td>\n",
       "    </tr>\n",
       "  </tbody>\n",
       "</table>\n",
       "</div>"
      ],
      "text/plain": [
       "                                                Text       Kategori  \\\n",
       "4  [AS Bersiap Cabut Pembatasan Perjalanan Darat-...    [detikNews]   \n",
       "5  [Warga Kota Malang yang NIK-nya Sempat Dipakai...    [detikNews]   \n",
       "6  [Sindiran WHO soal Keputusan Moderna yang Ogah...  [detikHealth]   \n",
       "7  [Pakar 'Berterima Kasih' Varian Delta Masuk RI...  [detikHealth]   \n",
       "8  [Kapolri: TNI-Polri Terus Bersinergi Wujudkan ...    [detikNews]   \n",
       "\n",
       "                                                 URL  \n",
       "4  https://news.detik.com/dw/d-5765261/as-bersiap...  \n",
       "5  https://news.detik.com/berita-jawa-timur/d-576...  \n",
       "6  https://health.detik.com/detiktv/d-5765149/sin...  \n",
       "7  https://health.detik.com/berita-detikhealth/d-...  \n",
       "8  https://news.detik.com/berita/d-5765131/kapolr...  "
      ]
     },
     "execution_count": 25,
     "metadata": {},
     "output_type": "execute_result"
    }
   ],
   "source": [
    "# Mengganti nama kolom\n",
    "df1.rename(columns={0: \"Text\", 1:\"Kategori\", 2:\"URL\"}, inplace=True)\n",
    "df1.tail()"
   ]
  },
  {
   "cell_type": "code",
   "execution_count": null,
   "metadata": {},
   "outputs": [],
   "source": []
  }
 ],
 "metadata": {
  "kernelspec": {
   "display_name": "Python 3",
   "language": "python",
   "name": "python3"
  },
  "language_info": {
   "codemirror_mode": {
    "name": "ipython",
    "version": 3
   },
   "file_extension": ".py",
   "mimetype": "text/x-python",
   "name": "python",
   "nbconvert_exporter": "python",
   "pygments_lexer": "ipython3",
   "version": "3.8.5"
  }
 },
 "nbformat": 4,
 "nbformat_minor": 4
}
