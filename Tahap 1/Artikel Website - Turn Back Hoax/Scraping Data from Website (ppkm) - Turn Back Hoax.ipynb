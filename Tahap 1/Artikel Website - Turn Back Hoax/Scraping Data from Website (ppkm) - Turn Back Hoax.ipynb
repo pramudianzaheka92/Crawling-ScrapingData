{
 "cells": [
  {
   "cell_type": "code",
   "execution_count": 1,
   "metadata": {},
   "outputs": [],
   "source": [
    "# Import library\n",
    "import pandas as pd\n",
    "import requests\n",
    "from bs4 import BeautifulSoup"
   ]
  },
  {
   "cell_type": "markdown",
   "metadata": {},
   "source": [
    "### Halaman 1"
   ]
  },
  {
   "cell_type": "code",
   "execution_count": 2,
   "metadata": {},
   "outputs": [],
   "source": [
    "keyword = \"ppkm\"\n",
    "url = \"https://turnbackhoax.id/?s={}\".format(keyword)"
   ]
  },
  {
   "cell_type": "code",
   "execution_count": 3,
   "metadata": {},
   "outputs": [],
   "source": [
    "# Request URL\n",
    "req = requests.get(url)\n",
    "\n",
    "\n",
    "soup = BeautifulSoup(req.text, \"html.parser\")\n",
    "\n",
    "# Memanggil judul artikel paling terluar\n",
    "content = soup.findAll(\"div\", \"mh-loop-content mh-clearfix\")\n",
    "\n",
    "# Menampung hasil dari scraping data\n",
    "data = []\n",
    "\n",
    "for scraping in content:\n",
    "    text = scraping.find(\"h3\", \"entry-title mh-loop-title\").text.strip().split(\"\\n\")\n",
    "    link = scraping.find(\"a\", {\"rel\":\"bookmark\"})[\"href\"]\n",
    "    \n",
    "    data.append([text, link])"
   ]
  },
  {
   "cell_type": "code",
   "execution_count": 4,
   "metadata": {},
   "outputs": [
    {
     "data": {
      "text/html": [
       "<div>\n",
       "<style scoped>\n",
       "    .dataframe tbody tr th:only-of-type {\n",
       "        vertical-align: middle;\n",
       "    }\n",
       "\n",
       "    .dataframe tbody tr th {\n",
       "        vertical-align: top;\n",
       "    }\n",
       "\n",
       "    .dataframe thead th {\n",
       "        text-align: right;\n",
       "    }\n",
       "</style>\n",
       "<table border=\"1\" class=\"dataframe\">\n",
       "  <thead>\n",
       "    <tr style=\"text-align: right;\">\n",
       "      <th></th>\n",
       "      <th>0</th>\n",
       "      <th>1</th>\n",
       "    </tr>\n",
       "  </thead>\n",
       "  <tbody>\n",
       "    <tr>\n",
       "      <th>0</th>\n",
       "      <td>[[SALAH] PPKM diperpanjang Bansos dihentikan]</td>\n",
       "      <td>https://turnbackhoax.id/2021/09/26/salah-ppkm-...</td>\n",
       "    </tr>\n",
       "    <tr>\n",
       "      <th>1</th>\n",
       "      <td>[[SALAH] “PPKM DILANJUTKAN SAMPAI HARI KIAMAT”]</td>\n",
       "      <td>https://turnbackhoax.id/2021/08/19/salah-ppkm-...</td>\n",
       "    </tr>\n",
       "    <tr>\n",
       "      <th>2</th>\n",
       "      <td>[[SALAH] Bantuan PPKM Rp1 Juta Bagi Pemilik Se...</td>\n",
       "      <td>https://turnbackhoax.id/2021/07/30/salah-bantu...</td>\n",
       "    </tr>\n",
       "    <tr>\n",
       "      <th>3</th>\n",
       "      <td>[[SALAH] “KITA BUKAN BODOH TAPI DIBODOHKAN KIT...</td>\n",
       "      <td>https://turnbackhoax.id/2021/07/29/salah-kita-...</td>\n",
       "    </tr>\n",
       "    <tr>\n",
       "      <th>4</th>\n",
       "      <td>[[SALAH] Mata Pengemudi ditusuk hingga Buta ol...</td>\n",
       "      <td>https://turnbackhoax.id/2021/07/22/salah-mata-...</td>\n",
       "    </tr>\n",
       "  </tbody>\n",
       "</table>\n",
       "</div>"
      ],
      "text/plain": [
       "                                                   0  \\\n",
       "0      [[SALAH] PPKM diperpanjang Bansos dihentikan]   \n",
       "1    [[SALAH] “PPKM DILANJUTKAN SAMPAI HARI KIAMAT”]   \n",
       "2  [[SALAH] Bantuan PPKM Rp1 Juta Bagi Pemilik Se...   \n",
       "3  [[SALAH] “KITA BUKAN BODOH TAPI DIBODOHKAN KIT...   \n",
       "4  [[SALAH] Mata Pengemudi ditusuk hingga Buta ol...   \n",
       "\n",
       "                                                   1  \n",
       "0  https://turnbackhoax.id/2021/09/26/salah-ppkm-...  \n",
       "1  https://turnbackhoax.id/2021/08/19/salah-ppkm-...  \n",
       "2  https://turnbackhoax.id/2021/07/30/salah-bantu...  \n",
       "3  https://turnbackhoax.id/2021/07/29/salah-kita-...  \n",
       "4  https://turnbackhoax.id/2021/07/22/salah-mata-...  "
      ]
     },
     "execution_count": 4,
     "metadata": {},
     "output_type": "execute_result"
    }
   ],
   "source": [
    "df1 = pd.DataFrame(data)\n",
    "df1.head()"
   ]
  },
  {
   "cell_type": "code",
   "execution_count": 5,
   "metadata": {},
   "outputs": [
    {
     "data": {
      "text/html": [
       "<div>\n",
       "<style scoped>\n",
       "    .dataframe tbody tr th:only-of-type {\n",
       "        vertical-align: middle;\n",
       "    }\n",
       "\n",
       "    .dataframe tbody tr th {\n",
       "        vertical-align: top;\n",
       "    }\n",
       "\n",
       "    .dataframe thead th {\n",
       "        text-align: right;\n",
       "    }\n",
       "</style>\n",
       "<table border=\"1\" class=\"dataframe\">\n",
       "  <thead>\n",
       "    <tr style=\"text-align: right;\">\n",
       "      <th></th>\n",
       "      <th>Text</th>\n",
       "      <th>URL</th>\n",
       "    </tr>\n",
       "  </thead>\n",
       "  <tbody>\n",
       "    <tr>\n",
       "      <th>15</th>\n",
       "      <td>[[SALAH] Seluruh Objek Wisata di Kabupaten Pan...</td>\n",
       "      <td>https://turnbackhoax.id/2021/08/09/salah-selur...</td>\n",
       "    </tr>\n",
       "    <tr>\n",
       "      <th>16</th>\n",
       "      <td>[[SALAH] Tautan Pendaftaran Bantuan Sosial Seb...</td>\n",
       "      <td>https://turnbackhoax.id/2021/08/07/salah-tauta...</td>\n",
       "    </tr>\n",
       "    <tr>\n",
       "      <th>17</th>\n",
       "      <td>[[SALAH] Link Pengecekan Penerima Bansos denga...</td>\n",
       "      <td>https://turnbackhoax.id/2021/08/05/salah-link-...</td>\n",
       "    </tr>\n",
       "    <tr>\n",
       "      <th>18</th>\n",
       "      <td>[[SALAH] Shopee, Grab dan Gojek Dukung Aksi Na...</td>\n",
       "      <td>https://turnbackhoax.id/2021/07/31/salah-shope...</td>\n",
       "    </tr>\n",
       "    <tr>\n",
       "      <th>19</th>\n",
       "      <td>[[SALAH] Video Kericuhan Terminal kota Lampung]</td>\n",
       "      <td>https://turnbackhoax.id/2021/07/29/salah-video...</td>\n",
       "    </tr>\n",
       "  </tbody>\n",
       "</table>\n",
       "</div>"
      ],
      "text/plain": [
       "                                                 Text  \\\n",
       "15  [[SALAH] Seluruh Objek Wisata di Kabupaten Pan...   \n",
       "16  [[SALAH] Tautan Pendaftaran Bantuan Sosial Seb...   \n",
       "17  [[SALAH] Link Pengecekan Penerima Bansos denga...   \n",
       "18  [[SALAH] Shopee, Grab dan Gojek Dukung Aksi Na...   \n",
       "19    [[SALAH] Video Kericuhan Terminal kota Lampung]   \n",
       "\n",
       "                                                  URL  \n",
       "15  https://turnbackhoax.id/2021/08/09/salah-selur...  \n",
       "16  https://turnbackhoax.id/2021/08/07/salah-tauta...  \n",
       "17  https://turnbackhoax.id/2021/08/05/salah-link-...  \n",
       "18  https://turnbackhoax.id/2021/07/31/salah-shope...  \n",
       "19  https://turnbackhoax.id/2021/07/29/salah-video...  "
      ]
     },
     "execution_count": 5,
     "metadata": {},
     "output_type": "execute_result"
    }
   ],
   "source": [
    "# Mengganti nama kolom\n",
    "df1.rename(columns={0: \"Text\", 1:\"URL\"}, inplace=True)\n",
    "df1.tail()"
   ]
  },
  {
   "cell_type": "markdown",
   "metadata": {},
   "source": [
    "### Halaman 2"
   ]
  },
  {
   "cell_type": "code",
   "execution_count": 6,
   "metadata": {},
   "outputs": [],
   "source": [
    "keyword = \"ppkm\"\n",
    "url = \"https://turnbackhoax.id/page/2/?s={}\".format(keyword)"
   ]
  },
  {
   "cell_type": "code",
   "execution_count": 7,
   "metadata": {},
   "outputs": [],
   "source": [
    "# Request URL\n",
    "req = requests.get(url)\n",
    "\n",
    "\n",
    "soup = BeautifulSoup(req.text, \"html.parser\")\n",
    "\n",
    "# Memanggil judul artikel paling terluar\n",
    "content = soup.findAll(\"div\", \"mh-loop-content mh-clearfix\")\n",
    "\n",
    "# Membuat list kosong untuk menampung hasil dari scraping data\n",
    "data = []\n",
    "\n",
    "for scraping in content:\n",
    "    text = scraping.find(\"h3\", \"entry-title mh-loop-title\").text.strip().split(\"\\n\")\n",
    "    link = scraping.find(\"a\", {\"rel\":\"bookmark\"})[\"href\"]\n",
    "    \n",
    "    # Memasukkan hasil scraping ke dalam list kosong\n",
    "    data.append([text, link])"
   ]
  },
  {
   "cell_type": "code",
   "execution_count": 8,
   "metadata": {},
   "outputs": [
    {
     "data": {
      "text/html": [
       "<div>\n",
       "<style scoped>\n",
       "    .dataframe tbody tr th:only-of-type {\n",
       "        vertical-align: middle;\n",
       "    }\n",
       "\n",
       "    .dataframe tbody tr th {\n",
       "        vertical-align: top;\n",
       "    }\n",
       "\n",
       "    .dataframe thead th {\n",
       "        text-align: right;\n",
       "    }\n",
       "</style>\n",
       "<table border=\"1\" class=\"dataframe\">\n",
       "  <thead>\n",
       "    <tr style=\"text-align: right;\">\n",
       "      <th></th>\n",
       "      <th>0</th>\n",
       "      <th>1</th>\n",
       "    </tr>\n",
       "  </thead>\n",
       "  <tbody>\n",
       "    <tr>\n",
       "      <th>0</th>\n",
       "      <td>[[SALAH] Driver Grab Meminta Jokowi untuk Turun]</td>\n",
       "      <td>https://turnbackhoax.id/2021/07/28/salah-drive...</td>\n",
       "    </tr>\n",
       "    <tr>\n",
       "      <th>1</th>\n",
       "      <td>[[SALAH] Video “Imam yg menyuruh rapatkan shaf...</td>\n",
       "      <td>https://turnbackhoax.id/2021/07/26/salah-video...</td>\n",
       "    </tr>\n",
       "    <tr>\n",
       "      <th>2</th>\n",
       "      <td>[[SALAH] Video “PESTA MIRAS TKA CINA DI MASA P...</td>\n",
       "      <td>https://turnbackhoax.id/2021/07/25/salah-video...</td>\n",
       "    </tr>\n",
       "    <tr>\n",
       "      <th>3</th>\n",
       "      <td>[[SALAH] Video Pasar Jagasatru Cirebon Ricuh]</td>\n",
       "      <td>https://turnbackhoax.id/2021/07/23/salah-video...</td>\n",
       "    </tr>\n",
       "    <tr>\n",
       "      <th>4</th>\n",
       "      <td>[[SALAH] “Pemerintah Resmi Izinkan Sholat Idul...</td>\n",
       "      <td>https://turnbackhoax.id/2021/07/22/salah-pemer...</td>\n",
       "    </tr>\n",
       "  </tbody>\n",
       "</table>\n",
       "</div>"
      ],
      "text/plain": [
       "                                                   0  \\\n",
       "0   [[SALAH] Driver Grab Meminta Jokowi untuk Turun]   \n",
       "1  [[SALAH] Video “Imam yg menyuruh rapatkan shaf...   \n",
       "2  [[SALAH] Video “PESTA MIRAS TKA CINA DI MASA P...   \n",
       "3      [[SALAH] Video Pasar Jagasatru Cirebon Ricuh]   \n",
       "4  [[SALAH] “Pemerintah Resmi Izinkan Sholat Idul...   \n",
       "\n",
       "                                                   1  \n",
       "0  https://turnbackhoax.id/2021/07/28/salah-drive...  \n",
       "1  https://turnbackhoax.id/2021/07/26/salah-video...  \n",
       "2  https://turnbackhoax.id/2021/07/25/salah-video...  \n",
       "3  https://turnbackhoax.id/2021/07/23/salah-video...  \n",
       "4  https://turnbackhoax.id/2021/07/22/salah-pemer...  "
      ]
     },
     "execution_count": 8,
     "metadata": {},
     "output_type": "execute_result"
    }
   ],
   "source": [
    "df2 = pd.DataFrame(data)\n",
    "df2.head()"
   ]
  },
  {
   "cell_type": "code",
   "execution_count": 9,
   "metadata": {},
   "outputs": [
    {
     "name": "stdout",
     "output_type": "stream",
     "text": [
      "<class 'pandas.core.frame.DataFrame'>\n",
      "RangeIndex: 20 entries, 0 to 19\n",
      "Data columns (total 2 columns):\n",
      " #   Column  Non-Null Count  Dtype \n",
      "---  ------  --------------  ----- \n",
      " 0   Text    20 non-null     object\n",
      " 1   URL     20 non-null     object\n",
      "dtypes: object(2)\n",
      "memory usage: 448.0+ bytes\n"
     ]
    }
   ],
   "source": [
    "# Mengganti nama kolom\n",
    "df2.rename(columns={0: \"Text\", 1:\"URL\"}, inplace=True)\n",
    "df2.info()"
   ]
  },
  {
   "cell_type": "markdown",
   "metadata": {},
   "source": [
    "### Halaman 3"
   ]
  },
  {
   "cell_type": "code",
   "execution_count": 10,
   "metadata": {},
   "outputs": [],
   "source": [
    "keyword = \"ppkm\"\n",
    "url = \"https://turnbackhoax.id/page/3/?s={}\".format(keyword)"
   ]
  },
  {
   "cell_type": "code",
   "execution_count": 11,
   "metadata": {},
   "outputs": [],
   "source": [
    "# Request URL\n",
    "req = requests.get(url)\n",
    "\n",
    "\n",
    "soup = BeautifulSoup(req.text, \"html.parser\")\n",
    "\n",
    "# Memanggil judul artikel paling terluar\n",
    "content = soup.findAll(\"div\", \"mh-loop-content mh-clearfix\")\n",
    "\n",
    "# Membuat list kosong untuk menampung hasil dari scraping data\n",
    "data = []\n",
    "\n",
    "for scraping in content:\n",
    "    text = scraping.find(\"h3\", \"entry-title mh-loop-title\").text.strip().split(\"\\n\")\n",
    "    link = scraping.find(\"a\", {\"rel\":\"bookmark\"})[\"href\"]\n",
    "    \n",
    "    # Memasukkan hasil scraping ke dalam list kosong\n",
    "    data.append([text, link])"
   ]
  },
  {
   "cell_type": "code",
   "execution_count": 12,
   "metadata": {},
   "outputs": [
    {
     "data": {
      "text/html": [
       "<div>\n",
       "<style scoped>\n",
       "    .dataframe tbody tr th:only-of-type {\n",
       "        vertical-align: middle;\n",
       "    }\n",
       "\n",
       "    .dataframe tbody tr th {\n",
       "        vertical-align: top;\n",
       "    }\n",
       "\n",
       "    .dataframe thead th {\n",
       "        text-align: right;\n",
       "    }\n",
       "</style>\n",
       "<table border=\"1\" class=\"dataframe\">\n",
       "  <thead>\n",
       "    <tr style=\"text-align: right;\">\n",
       "      <th></th>\n",
       "      <th>0</th>\n",
       "      <th>1</th>\n",
       "    </tr>\n",
       "  </thead>\n",
       "  <tbody>\n",
       "    <tr>\n",
       "      <th>0</th>\n",
       "      <td>[Kompilasi Post Periksa Fakta MAFINDO Berkaita...</td>\n",
       "      <td>https://turnbackhoax.id/2020/02/06/kompilasi-p...</td>\n",
       "    </tr>\n",
       "    <tr>\n",
       "      <th>1</th>\n",
       "      <td>[[SALAH] “Arief Budiman : Saya Siap Di Kutuk M...</td>\n",
       "      <td>https://turnbackhoax.id/2020/01/13/salah-arief...</td>\n",
       "    </tr>\n",
       "  </tbody>\n",
       "</table>\n",
       "</div>"
      ],
      "text/plain": [
       "                                                   0  \\\n",
       "0  [Kompilasi Post Periksa Fakta MAFINDO Berkaita...   \n",
       "1  [[SALAH] “Arief Budiman : Saya Siap Di Kutuk M...   \n",
       "\n",
       "                                                   1  \n",
       "0  https://turnbackhoax.id/2020/02/06/kompilasi-p...  \n",
       "1  https://turnbackhoax.id/2020/01/13/salah-arief...  "
      ]
     },
     "execution_count": 12,
     "metadata": {},
     "output_type": "execute_result"
    }
   ],
   "source": [
    "df3 = pd.DataFrame(data)\n",
    "df3.head()"
   ]
  },
  {
   "cell_type": "code",
   "execution_count": 13,
   "metadata": {},
   "outputs": [
    {
     "data": {
      "text/html": [
       "<div>\n",
       "<style scoped>\n",
       "    .dataframe tbody tr th:only-of-type {\n",
       "        vertical-align: middle;\n",
       "    }\n",
       "\n",
       "    .dataframe tbody tr th {\n",
       "        vertical-align: top;\n",
       "    }\n",
       "\n",
       "    .dataframe thead th {\n",
       "        text-align: right;\n",
       "    }\n",
       "</style>\n",
       "<table border=\"1\" class=\"dataframe\">\n",
       "  <thead>\n",
       "    <tr style=\"text-align: right;\">\n",
       "      <th></th>\n",
       "      <th>Text</th>\n",
       "      <th>URL</th>\n",
       "    </tr>\n",
       "  </thead>\n",
       "  <tbody>\n",
       "    <tr>\n",
       "      <th>0</th>\n",
       "      <td>[Kompilasi Post Periksa Fakta MAFINDO Berkaita...</td>\n",
       "      <td>https://turnbackhoax.id/2020/02/06/kompilasi-p...</td>\n",
       "    </tr>\n",
       "    <tr>\n",
       "      <th>1</th>\n",
       "      <td>[[SALAH] “Arief Budiman : Saya Siap Di Kutuk M...</td>\n",
       "      <td>https://turnbackhoax.id/2020/01/13/salah-arief...</td>\n",
       "    </tr>\n",
       "  </tbody>\n",
       "</table>\n",
       "</div>"
      ],
      "text/plain": [
       "                                                Text  \\\n",
       "0  [Kompilasi Post Periksa Fakta MAFINDO Berkaita...   \n",
       "1  [[SALAH] “Arief Budiman : Saya Siap Di Kutuk M...   \n",
       "\n",
       "                                                 URL  \n",
       "0  https://turnbackhoax.id/2020/02/06/kompilasi-p...  \n",
       "1  https://turnbackhoax.id/2020/01/13/salah-arief...  "
      ]
     },
     "execution_count": 13,
     "metadata": {},
     "output_type": "execute_result"
    }
   ],
   "source": [
    "# Mengganti nama kolom\n",
    "df3.rename(columns={0: \"Text\", 1:\"URL\"}, inplace=True)\n",
    "df3.head()"
   ]
  },
  {
   "cell_type": "markdown",
   "metadata": {},
   "source": [
    "### Menggabungkan Ketiga DataFrame Menjadi 1"
   ]
  },
  {
   "cell_type": "code",
   "execution_count": 14,
   "metadata": {},
   "outputs": [
    {
     "data": {
      "text/html": [
       "<div>\n",
       "<style scoped>\n",
       "    .dataframe tbody tr th:only-of-type {\n",
       "        vertical-align: middle;\n",
       "    }\n",
       "\n",
       "    .dataframe tbody tr th {\n",
       "        vertical-align: top;\n",
       "    }\n",
       "\n",
       "    .dataframe thead th {\n",
       "        text-align: right;\n",
       "    }\n",
       "</style>\n",
       "<table border=\"1\" class=\"dataframe\">\n",
       "  <thead>\n",
       "    <tr style=\"text-align: right;\">\n",
       "      <th></th>\n",
       "      <th>Text</th>\n",
       "      <th>URL</th>\n",
       "    </tr>\n",
       "  </thead>\n",
       "  <tbody>\n",
       "    <tr>\n",
       "      <th>0</th>\n",
       "      <td>[[SALAH] PPKM diperpanjang Bansos dihentikan]</td>\n",
       "      <td>https://turnbackhoax.id/2021/09/26/salah-ppkm-...</td>\n",
       "    </tr>\n",
       "    <tr>\n",
       "      <th>1</th>\n",
       "      <td>[[SALAH] “PPKM DILANJUTKAN SAMPAI HARI KIAMAT”]</td>\n",
       "      <td>https://turnbackhoax.id/2021/08/19/salah-ppkm-...</td>\n",
       "    </tr>\n",
       "    <tr>\n",
       "      <th>2</th>\n",
       "      <td>[[SALAH] Bantuan PPKM Rp1 Juta Bagi Pemilik Se...</td>\n",
       "      <td>https://turnbackhoax.id/2021/07/30/salah-bantu...</td>\n",
       "    </tr>\n",
       "    <tr>\n",
       "      <th>3</th>\n",
       "      <td>[[SALAH] “KITA BUKAN BODOH TAPI DIBODOHKAN KIT...</td>\n",
       "      <td>https://turnbackhoax.id/2021/07/29/salah-kita-...</td>\n",
       "    </tr>\n",
       "    <tr>\n",
       "      <th>4</th>\n",
       "      <td>[[SALAH] Mata Pengemudi ditusuk hingga Buta ol...</td>\n",
       "      <td>https://turnbackhoax.id/2021/07/22/salah-mata-...</td>\n",
       "    </tr>\n",
       "  </tbody>\n",
       "</table>\n",
       "</div>"
      ],
      "text/plain": [
       "                                                Text  \\\n",
       "0      [[SALAH] PPKM diperpanjang Bansos dihentikan]   \n",
       "1    [[SALAH] “PPKM DILANJUTKAN SAMPAI HARI KIAMAT”]   \n",
       "2  [[SALAH] Bantuan PPKM Rp1 Juta Bagi Pemilik Se...   \n",
       "3  [[SALAH] “KITA BUKAN BODOH TAPI DIBODOHKAN KIT...   \n",
       "4  [[SALAH] Mata Pengemudi ditusuk hingga Buta ol...   \n",
       "\n",
       "                                                 URL  \n",
       "0  https://turnbackhoax.id/2021/09/26/salah-ppkm-...  \n",
       "1  https://turnbackhoax.id/2021/08/19/salah-ppkm-...  \n",
       "2  https://turnbackhoax.id/2021/07/30/salah-bantu...  \n",
       "3  https://turnbackhoax.id/2021/07/29/salah-kita-...  \n",
       "4  https://turnbackhoax.id/2021/07/22/salah-mata-...  "
      ]
     },
     "execution_count": 14,
     "metadata": {},
     "output_type": "execute_result"
    }
   ],
   "source": [
    "# Membuat DataFrame baru untuk menampung ketiga DataFrame hasil scraping\n",
    "data_scrap = [df1, df2, df3]\n",
    "\n",
    "# Menggabungkan DataFrame\n",
    "data_scraping = pd.concat(data_scrap)\n",
    "\n",
    "data_scraping.head()"
   ]
  },
  {
   "cell_type": "code",
   "execution_count": 15,
   "metadata": {},
   "outputs": [
    {
     "name": "stdout",
     "output_type": "stream",
     "text": [
      "<class 'pandas.core.frame.DataFrame'>\n",
      "Int64Index: 42 entries, 0 to 1\n",
      "Data columns (total 2 columns):\n",
      " #   Column  Non-Null Count  Dtype \n",
      "---  ------  --------------  ----- \n",
      " 0   Text    42 non-null     object\n",
      " 1   URL     42 non-null     object\n",
      "dtypes: object(2)\n",
      "memory usage: 1008.0+ bytes\n"
     ]
    }
   ],
   "source": [
    "data_scraping.info()"
   ]
  },
  {
   "cell_type": "code",
   "execution_count": 16,
   "metadata": {},
   "outputs": [
    {
     "data": {
      "text/html": [
       "<div>\n",
       "<style scoped>\n",
       "    .dataframe tbody tr th:only-of-type {\n",
       "        vertical-align: middle;\n",
       "    }\n",
       "\n",
       "    .dataframe tbody tr th {\n",
       "        vertical-align: top;\n",
       "    }\n",
       "\n",
       "    .dataframe thead th {\n",
       "        text-align: right;\n",
       "    }\n",
       "</style>\n",
       "<table border=\"1\" class=\"dataframe\">\n",
       "  <thead>\n",
       "    <tr style=\"text-align: right;\">\n",
       "      <th></th>\n",
       "      <th>Text</th>\n",
       "      <th>URL</th>\n",
       "    </tr>\n",
       "  </thead>\n",
       "  <tbody>\n",
       "    <tr>\n",
       "      <th>17</th>\n",
       "      <td>[[SALAH] Jakarta tanggal 12-15 Februari Lockdown]</td>\n",
       "      <td>https://turnbackhoax.id/2021/02/07/salah-jakar...</td>\n",
       "    </tr>\n",
       "    <tr>\n",
       "      <th>18</th>\n",
       "      <td>[[SALAH] “PSBB jawa &amp; Bali di perpanjang sampa...</td>\n",
       "      <td>https://turnbackhoax.id/2021/02/06/salah-psbb-...</td>\n",
       "    </tr>\n",
       "    <tr>\n",
       "      <th>19</th>\n",
       "      <td>[[SALAH] Jawa-Bali Lockdown pada Tanggal 11-25...</td>\n",
       "      <td>https://turnbackhoax.id/2021/01/09/salah-jawa-...</td>\n",
       "    </tr>\n",
       "    <tr>\n",
       "      <th>0</th>\n",
       "      <td>[Kompilasi Post Periksa Fakta MAFINDO Berkaita...</td>\n",
       "      <td>https://turnbackhoax.id/2020/02/06/kompilasi-p...</td>\n",
       "    </tr>\n",
       "    <tr>\n",
       "      <th>1</th>\n",
       "      <td>[[SALAH] “Arief Budiman : Saya Siap Di Kutuk M...</td>\n",
       "      <td>https://turnbackhoax.id/2020/01/13/salah-arief...</td>\n",
       "    </tr>\n",
       "  </tbody>\n",
       "</table>\n",
       "</div>"
      ],
      "text/plain": [
       "                                                 Text  \\\n",
       "17  [[SALAH] Jakarta tanggal 12-15 Februari Lockdown]   \n",
       "18  [[SALAH] “PSBB jawa & Bali di perpanjang sampa...   \n",
       "19  [[SALAH] Jawa-Bali Lockdown pada Tanggal 11-25...   \n",
       "0   [Kompilasi Post Periksa Fakta MAFINDO Berkaita...   \n",
       "1   [[SALAH] “Arief Budiman : Saya Siap Di Kutuk M...   \n",
       "\n",
       "                                                  URL  \n",
       "17  https://turnbackhoax.id/2021/02/07/salah-jakar...  \n",
       "18  https://turnbackhoax.id/2021/02/06/salah-psbb-...  \n",
       "19  https://turnbackhoax.id/2021/01/09/salah-jawa-...  \n",
       "0   https://turnbackhoax.id/2020/02/06/kompilasi-p...  \n",
       "1   https://turnbackhoax.id/2020/01/13/salah-arief...  "
      ]
     },
     "execution_count": 16,
     "metadata": {},
     "output_type": "execute_result"
    }
   ],
   "source": [
    "data_scraping.tail()"
   ]
  },
  {
   "cell_type": "code",
   "execution_count": 17,
   "metadata": {},
   "outputs": [],
   "source": [
    "# Menjadikan format DataFrame menjadi .csv\n",
    "data_scraping.to_csv(\"Data Scraping (TurnBackHoax) - PPKM.csv\", index=False)"
   ]
  }
 ],
 "metadata": {
  "kernelspec": {
   "display_name": "Python 3",
   "language": "python",
   "name": "python3"
  },
  "language_info": {
   "codemirror_mode": {
    "name": "ipython",
    "version": 3
   },
   "file_extension": ".py",
   "mimetype": "text/x-python",
   "name": "python",
   "nbconvert_exporter": "python",
   "pygments_lexer": "ipython3",
   "version": "3.8.5"
  }
 },
 "nbformat": 4,
 "nbformat_minor": 4
}
